{
  "nbformat": 4,
  "nbformat_minor": 0,
  "metadata": {
    "colab": {
      "name": "Untitled0.ipynb",
      "version": "0.3.2",
      "provenance": [],
      "collapsed_sections": []
    },
    "kernelspec": {
      "name": "python2",
      "display_name": "Python 2"
    }
  },
  "cells": [
    {
      "cell_type": "code",
      "metadata": {
        "id": "heaskxrykoPS",
        "colab_type": "code",
        "outputId": "c5df7b43-0e9f-46c7-9c93-e56199a1bb35",
        "colab": {
          "base_uri": "https://localhost:8080/",
          "height": 35
        }
      },
      "source": [
        "a = 6\n",
        "a"
      ],
      "execution_count": 0,
      "outputs": [
        {
          "output_type": "execute_result",
          "data": {
            "text/plain": [
              "6"
            ]
          },
          "metadata": {
            "tags": []
          },
          "execution_count": 2
        }
      ]
    },
    {
      "cell_type": "code",
      "metadata": {
        "id": "3PsBEgzSk_p1",
        "colab_type": "code",
        "outputId": "d1072651-8d44-4ab6-8cf8-0f9bd9e56073",
        "colab": {
          "base_uri": "https://localhost:8080/",
          "height": 35
        }
      },
      "source": [
        "a + 2"
      ],
      "execution_count": 0,
      "outputs": [
        {
          "output_type": "execute_result",
          "data": {
            "text/plain": [
              "8"
            ]
          },
          "metadata": {
            "tags": []
          },
          "execution_count": 3
        }
      ]
    },
    {
      "cell_type": "code",
      "metadata": {
        "id": "QHu48M8glGY-",
        "colab_type": "code",
        "outputId": "8d31705a-3e4f-4e6a-d643-cda968e91dc0",
        "colab": {
          "base_uri": "https://localhost:8080/",
          "height": 35
        }
      },
      "source": [
        "a = 'hi'\n",
        "a"
      ],
      "execution_count": 0,
      "outputs": [
        {
          "output_type": "execute_result",
          "data": {
            "text/plain": [
              "'hi'"
            ]
          },
          "metadata": {
            "tags": []
          },
          "execution_count": 4
        }
      ]
    },
    {
      "cell_type": "code",
      "metadata": {
        "id": "Vunp_L7UlLSz",
        "colab_type": "code",
        "outputId": "50a85d49-f814-4d6f-d6d2-850291505639",
        "colab": {
          "base_uri": "https://localhost:8080/",
          "height": 35
        }
      },
      "source": [
        "len(a)"
      ],
      "execution_count": 0,
      "outputs": [
        {
          "output_type": "execute_result",
          "data": {
            "text/plain": [
              "2"
            ]
          },
          "metadata": {
            "tags": []
          },
          "execution_count": 5
        }
      ]
    },
    {
      "cell_type": "code",
      "metadata": {
        "id": "CInooM1VlOdO",
        "colab_type": "code",
        "outputId": "cc502d31-83b3-4c21-c030-4446fd6e4cc5",
        "colab": {
          "base_uri": "https://localhost:8080/",
          "height": 35
        }
      },
      "source": [
        "a + str(len(a))"
      ],
      "execution_count": 0,
      "outputs": [
        {
          "output_type": "execute_result",
          "data": {
            "text/plain": [
              "'hi2'"
            ]
          },
          "metadata": {
            "tags": []
          },
          "execution_count": 7
        }
      ]
    },
    {
      "cell_type": "code",
      "metadata": {
        "id": "4nmhDsfflSSA",
        "colab_type": "code",
        "colab": {}
      },
      "source": [
        "#foo"
      ],
      "execution_count": 0,
      "outputs": []
    },
    {
      "cell_type": "code",
      "metadata": {
        "id": "ojSZUAQAlZqa",
        "colab_type": "code",
        "outputId": "3eb3cb8d-7452-4e33-a714-4ddd94862107",
        "colab": {
          "base_uri": "https://localhost:8080/",
          "height": 35
        }
      },
      "source": [
        "import sys\n",
        "\n",
        "def main():\n",
        "  print 'Hello there', sys.argv[1]\n",
        "  \n",
        "if __name__ == '__main__':\n",
        "  main()"
      ],
      "execution_count": 0,
      "outputs": [
        {
          "output_type": "stream",
          "text": [
            "Hello there -f\n"
          ],
          "name": "stdout"
        }
      ]
    },
    {
      "cell_type": "code",
      "metadata": {
        "id": "0BlmW2lomNye",
        "colab_type": "code",
        "colab": {}
      },
      "source": [
        "def repeat(s, exclaim):\n",
        "  result = s + s + s\n",
        "  if exclaim:\n",
        "    result = result + '!!!'\n",
        "  \n",
        "  return result\n",
        "\n",
        "def main():\n",
        "  print repeat('Yay', False)\n",
        "  print repeat('Woo Hoo', True)"
      ],
      "execution_count": 0,
      "outputs": []
    },
    {
      "cell_type": "code",
      "metadata": {
        "id": "Ah3aCUYNm34m",
        "colab_type": "code",
        "colab": {}
      },
      "source": [
        "def main():\n",
        "  if name == 'Guido':\n",
        "    print repeeeet(name) + '!!!'\n",
        "  else:\n",
        "    print repeat(name)"
      ],
      "execution_count": 0,
      "outputs": []
    },
    {
      "cell_type": "code",
      "metadata": {
        "id": "wXd3XIhBnMmL",
        "colab_type": "code",
        "outputId": "05e996d3-5dac-4957-c8e5-c31db9e1bb67",
        "colab": {
          "base_uri": "https://localhost:8080/",
          "height": 69
        }
      },
      "source": [
        "s = 'hi'\n",
        "print s[1]\n",
        "print len(s)\n",
        "print s + ' there'"
      ],
      "execution_count": 0,
      "outputs": [
        {
          "output_type": "stream",
          "text": [
            "i\n",
            "2\n",
            "hi there\n"
          ],
          "name": "stdout"
        }
      ]
    },
    {
      "cell_type": "code",
      "metadata": {
        "id": "-Coruw7apLTo",
        "colab_type": "code",
        "colab": {}
      },
      "source": [
        "pi = 3.14\n",
        "##text = 'The value of pi is ' + pi\n",
        "text = 'The value of pi is ' + str(pi)"
      ],
      "execution_count": 0,
      "outputs": []
    },
    {
      "cell_type": "code",
      "metadata": {
        "id": "IEB6cIirplew",
        "colab_type": "code",
        "outputId": "e5c7e2f6-1fe3-4a99-8a21-dfdd2e8ec929",
        "colab": {
          "base_uri": "https://localhost:8080/",
          "height": 35
        }
      },
      "source": [
        "raw = r'this\\t\\n and that'\n",
        "print raw"
      ],
      "execution_count": 0,
      "outputs": [
        {
          "output_type": "stream",
          "text": [
            "this\\t\\n and that\n"
          ],
          "name": "stdout"
        }
      ]
    },
    {
      "cell_type": "code",
      "metadata": {
        "id": "uEuPfOn-p-25",
        "colab_type": "code",
        "outputId": "86f93e22-09ce-4b9a-ec79-4e8d3804bd7e",
        "colab": {
          "base_uri": "https://localhost:8080/",
          "height": 52
        }
      },
      "source": [
        "multi = \"\"\"It was the best of times.\n",
        "It was the worst of times.\"\"\"\n",
        "print multi"
      ],
      "execution_count": 0,
      "outputs": [
        {
          "output_type": "stream",
          "text": [
            "It was the best of times.\n",
            "It was the worst of times.\n"
          ],
          "name": "stdout"
        }
      ]
    },
    {
      "cell_type": "code",
      "metadata": {
        "id": "9GVaXGfHqTPj",
        "colab_type": "code",
        "colab": {}
      },
      "source": [
        "text = \"%d little pigs come out, or I'll %s, and I'll %s, and I'll blow your %s down.\" % (3, 'huff', 'puff', 'house')\n",
        "\n",
        "text = (\"%d little pigs come out, or I'll %s, and I'll %s, and I'll blow your %s down.\"\n",
        "        % (3, 'huff', 'puff', 'house'))\n",
        "\n",
        "text = (\n",
        "    \"%d little pigs come out, \"\n",
        "    \"or I'll %s, and I'll %s, \"\n",
        "    \"and I'll blow your %s down.\"\n",
        "    % (3, 'huff', 'puff', 'house'))"
      ],
      "execution_count": 0,
      "outputs": []
    },
    {
      "cell_type": "code",
      "metadata": {
        "id": "Vklg5vR9rfVW",
        "colab_type": "code",
        "outputId": "d8d180fa-d2c9-4c10-b72e-87995390b752",
        "colab": {
          "base_uri": "https://localhost:8080/",
          "height": 35
        }
      },
      "source": [
        "ustring = u'A unicode \\u018e string \\xf1'\n",
        "ustring"
      ],
      "execution_count": 0,
      "outputs": [
        {
          "output_type": "execute_result",
          "data": {
            "text/plain": [
              "u'A unicode \\u018e string \\xf1'"
            ]
          },
          "metadata": {
            "tags": []
          },
          "execution_count": 21
        }
      ]
    },
    {
      "cell_type": "code",
      "metadata": {
        "id": "d00B8Po-sCeb",
        "colab_type": "code",
        "outputId": "fed460f9-0ab5-47ef-872b-7848547aa7b8",
        "colab": {
          "base_uri": "https://localhost:8080/",
          "height": 35
        }
      },
      "source": [
        "s = ustring.encode('utf-8')\n",
        "s"
      ],
      "execution_count": 0,
      "outputs": [
        {
          "output_type": "execute_result",
          "data": {
            "text/plain": [
              "'A unicode \\xc6\\x8e string \\xc3\\xb1'"
            ]
          },
          "metadata": {
            "tags": []
          },
          "execution_count": 22
        }
      ]
    },
    {
      "cell_type": "code",
      "metadata": {
        "id": "81r_y4OzsdDc",
        "colab_type": "code",
        "outputId": "401d2e48-c044-41ec-d4e6-7728f3ceb103",
        "colab": {
          "base_uri": "https://localhost:8080/",
          "height": 35
        }
      },
      "source": [
        "t = unicode(s, 'utf-8')\n",
        "t == ustring"
      ],
      "execution_count": 0,
      "outputs": [
        {
          "output_type": "execute_result",
          "data": {
            "text/plain": [
              "True"
            ]
          },
          "metadata": {
            "tags": []
          },
          "execution_count": 23
        }
      ]
    },
    {
      "cell_type": "code",
      "metadata": {
        "id": "Mh21QVPJsv8r",
        "colab_type": "code",
        "colab": {}
      },
      "source": [
        "#if speed >= 80:\n",
        "#  print 'License and registration please'\n",
        "#  if mood == 'terrible' or speed >= 100:\n",
        "#    print 'You have the right to remain silent.'\n",
        "#  elif mood == 'bad' or speed >= 90:\n",
        "#    print \"I'm going to have to write you a ticket.\"\n",
        "#    write_ticket()\n",
        "#  else:\n",
        "#    print \"Let's try to keep it under 80 ok?\""
      ],
      "execution_count": 0,
      "outputs": []
    },
    {
      "cell_type": "code",
      "metadata": {
        "id": "fhhYF7JNuSTu",
        "colab_type": "code",
        "colab": {}
      },
      "source": [
        "#if speed >= 80: print 'You are so busted'\n",
        "#else: print 'Have a nice day'"
      ],
      "execution_count": 0,
      "outputs": []
    },
    {
      "cell_type": "code",
      "metadata": {
        "id": "XLT3Ia5_u_d5",
        "colab_type": "code",
        "outputId": "17c0ea0e-3103-428b-e48d-d9bb07d77cf5",
        "colab": {
          "base_uri": "https://localhost:8080/",
          "height": 69
        }
      },
      "source": [
        "colors = ['red', 'blue', 'green']\n",
        "print colors[0]\n",
        "print colors[2]\n",
        "print len(colors)"
      ],
      "execution_count": 0,
      "outputs": [
        {
          "output_type": "stream",
          "text": [
            "red\n",
            "green\n",
            "3\n"
          ],
          "name": "stdout"
        }
      ]
    },
    {
      "cell_type": "code",
      "metadata": {
        "id": "BYsdlnAA3AL7",
        "colab_type": "code",
        "colab": {}
      },
      "source": [
        "b = colors"
      ],
      "execution_count": 0,
      "outputs": []
    },
    {
      "cell_type": "code",
      "metadata": {
        "id": "vP0_LN4X3Lhf",
        "colab_type": "code",
        "outputId": "ce010298-6cf6-4eb4-f7a9-aad56b1c2984",
        "colab": {
          "base_uri": "https://localhost:8080/",
          "height": 35
        }
      },
      "source": [
        "squares = [1, 4, 9, 16]\n",
        "sum = 0\n",
        "for num in squares:\n",
        "  sum += num\n",
        "print sum"
      ],
      "execution_count": 0,
      "outputs": [
        {
          "output_type": "stream",
          "text": [
            "30\n"
          ],
          "name": "stdout"
        }
      ]
    },
    {
      "cell_type": "code",
      "metadata": {
        "id": "9UoEL6pF3iQt",
        "colab_type": "code",
        "outputId": "b6a62e23-510e-4a8b-82dd-c51d347ee277",
        "colab": {
          "base_uri": "https://localhost:8080/",
          "height": 35
        }
      },
      "source": [
        "list = ['larry', 'curly', 'moe']\n",
        "if 'curly' in list:\n",
        "  print 'yay'"
      ],
      "execution_count": 0,
      "outputs": [
        {
          "output_type": "stream",
          "text": [
            "yay\n"
          ],
          "name": "stdout"
        }
      ]
    },
    {
      "cell_type": "code",
      "metadata": {
        "id": "OuLvm9XD3z0-",
        "colab_type": "code",
        "outputId": "19debf35-1a7c-4391-84db-9a094e144a06",
        "colab": {
          "base_uri": "https://localhost:8080/",
          "height": 1751
        }
      },
      "source": [
        "for i in range(100):\n",
        "  print i"
      ],
      "execution_count": 0,
      "outputs": [
        {
          "output_type": "stream",
          "text": [
            "0\n",
            "1\n",
            "2\n",
            "3\n",
            "4\n",
            "5\n",
            "6\n",
            "7\n",
            "8\n",
            "9\n",
            "10\n",
            "11\n",
            "12\n",
            "13\n",
            "14\n",
            "15\n",
            "16\n",
            "17\n",
            "18\n",
            "19\n",
            "20\n",
            "21\n",
            "22\n",
            "23\n",
            "24\n",
            "25\n",
            "26\n",
            "27\n",
            "28\n",
            "29\n",
            "30\n",
            "31\n",
            "32\n",
            "33\n",
            "34\n",
            "35\n",
            "36\n",
            "37\n",
            "38\n",
            "39\n",
            "40\n",
            "41\n",
            "42\n",
            "43\n",
            "44\n",
            "45\n",
            "46\n",
            "47\n",
            "48\n",
            "49\n",
            "50\n",
            "51\n",
            "52\n",
            "53\n",
            "54\n",
            "55\n",
            "56\n",
            "57\n",
            "58\n",
            "59\n",
            "60\n",
            "61\n",
            "62\n",
            "63\n",
            "64\n",
            "65\n",
            "66\n",
            "67\n",
            "68\n",
            "69\n",
            "70\n",
            "71\n",
            "72\n",
            "73\n",
            "74\n",
            "75\n",
            "76\n",
            "77\n",
            "78\n",
            "79\n",
            "80\n",
            "81\n",
            "82\n",
            "83\n",
            "84\n",
            "85\n",
            "86\n",
            "87\n",
            "88\n",
            "89\n",
            "90\n",
            "91\n",
            "92\n",
            "93\n",
            "94\n",
            "95\n",
            "96\n",
            "97\n",
            "98\n",
            "99\n"
          ],
          "name": "stdout"
        }
      ]
    },
    {
      "cell_type": "code",
      "metadata": {
        "id": "4Y5FclQ44mev",
        "colab_type": "code",
        "outputId": "8dea5fe5-a217-4ab5-b004-2e0c30c76965",
        "colab": {
          "base_uri": "https://localhost:8080/",
          "height": 35
        }
      },
      "source": [
        "i = 0\n",
        "while i < len(a):\n",
        "  print a[i]\n",
        "  i = i + 3"
      ],
      "execution_count": 0,
      "outputs": [
        {
          "output_type": "stream",
          "text": [
            "h\n"
          ],
          "name": "stdout"
        }
      ]
    },
    {
      "cell_type": "code",
      "metadata": {
        "id": "zf5SFGQF5ADW",
        "colab_type": "code",
        "outputId": "36cd2935-cbf8-426f-beca-f43ba90f72c0",
        "colab": {
          "base_uri": "https://localhost:8080/",
          "height": 69
        }
      },
      "source": [
        "list = ['larry', 'curly', 'moe']\n",
        "list.append('shemp')\n",
        "list.insert(0, 'xxx')\n",
        "list.extend(['yyy', 'zzz'])\n",
        "print list\n",
        "print list.index('curly')\n",
        "\n",
        "list.remove('curly')\n",
        "list.pop(1)\n",
        "print list"
      ],
      "execution_count": 0,
      "outputs": [
        {
          "output_type": "stream",
          "text": [
            "['xxx', 'larry', 'curly', 'moe', 'shemp', 'yyy', 'zzz']\n",
            "2\n",
            "['xxx', 'moe', 'shemp', 'yyy', 'zzz']\n"
          ],
          "name": "stdout"
        }
      ]
    },
    {
      "cell_type": "code",
      "metadata": {
        "id": "R67xMACZ6JbX",
        "colab_type": "code",
        "outputId": "e39fb25a-9991-4364-c45a-8d503e30b4ea",
        "colab": {
          "base_uri": "https://localhost:8080/",
          "height": 52
        }
      },
      "source": [
        "list = [1, 2, 3]\n",
        "print list.append(4)\n",
        "print list"
      ],
      "execution_count": 0,
      "outputs": [
        {
          "output_type": "stream",
          "text": [
            "None\n",
            "[1, 2, 3, 4]\n"
          ],
          "name": "stdout"
        }
      ]
    },
    {
      "cell_type": "code",
      "metadata": {
        "id": "H9MmIy3P6bB6",
        "colab_type": "code",
        "colab": {}
      },
      "source": [
        "list = []\n",
        "list.append('a')\n",
        "list.append('b')"
      ],
      "execution_count": 0,
      "outputs": []
    },
    {
      "cell_type": "code",
      "metadata": {
        "id": "yeUd-GvP6hM8",
        "colab_type": "code",
        "outputId": "fb40c13d-dfbc-4888-f25a-aa6bdcdf920a",
        "colab": {
          "base_uri": "https://localhost:8080/",
          "height": 52
        }
      },
      "source": [
        "list = ['a', 'b', 'c', 'd']\n",
        "print list[1:-1]\n",
        "list[0:2] = 'z'\n",
        "print list"
      ],
      "execution_count": 0,
      "outputs": [
        {
          "output_type": "stream",
          "text": [
            "['b', 'c']\n",
            "['z', 'c', 'd']\n"
          ],
          "name": "stdout"
        }
      ]
    },
    {
      "cell_type": "code",
      "metadata": {
        "id": "uVujAXIk7RAZ",
        "colab_type": "code",
        "outputId": "c8cda5c1-4c50-4d78-8543-72e871dcb5c0",
        "colab": {
          "base_uri": "https://localhost:8080/",
          "height": 52
        }
      },
      "source": [
        "a = [5, 1, 4, 3]\n",
        "print sorted(a)\n",
        "print a"
      ],
      "execution_count": 0,
      "outputs": [
        {
          "output_type": "stream",
          "text": [
            "[1, 3, 4, 5]\n",
            "[5, 1, 4, 3]\n"
          ],
          "name": "stdout"
        }
      ]
    },
    {
      "cell_type": "code",
      "metadata": {
        "id": "-9FYjjQ9ol45",
        "colab_type": "code",
        "outputId": "ad83ec3d-f549-4a1c-9ab1-600097d9d143",
        "colab": {
          "base_uri": "https://localhost:8080/",
          "height": 52
        }
      },
      "source": [
        "strs = ['aa', 'BB', 'zz', 'CC']\n",
        "print sorted(strs)\n",
        "print sorted(strs, reverse=True)"
      ],
      "execution_count": 0,
      "outputs": [
        {
          "output_type": "stream",
          "text": [
            "['BB', 'CC', 'aa', 'zz']\n",
            "['zz', 'aa', 'CC', 'BB']\n"
          ],
          "name": "stdout"
        }
      ]
    },
    {
      "cell_type": "code",
      "metadata": {
        "id": "1GnDg3_Eo89K",
        "colab_type": "code",
        "outputId": "4a5e286c-438c-44fa-80ba-707cafa7c361",
        "colab": {
          "base_uri": "https://localhost:8080/",
          "height": 35
        }
      },
      "source": [
        "strs = ['ccc', 'aaaa', 'd', 'bb']\n",
        "print sorted(strs, key=len)"
      ],
      "execution_count": 0,
      "outputs": [
        {
          "output_type": "stream",
          "text": [
            "['d', 'bb', 'ccc', 'aaaa']\n"
          ],
          "name": "stdout"
        }
      ]
    },
    {
      "cell_type": "code",
      "metadata": {
        "id": "0reJjxKepmt_",
        "colab_type": "code",
        "outputId": "76d17914-c9ae-4ace-c621-3174d8c17a5f",
        "colab": {
          "base_uri": "https://localhost:8080/",
          "height": 35
        }
      },
      "source": [
        "print sorted(strs, key=str.lower)"
      ],
      "execution_count": 0,
      "outputs": [
        {
          "output_type": "stream",
          "text": [
            "['aaaa', 'bb', 'ccc', 'd']\n"
          ],
          "name": "stdout"
        }
      ]
    },
    {
      "cell_type": "code",
      "metadata": {
        "id": "IFlceOuDqX5a",
        "colab_type": "code",
        "outputId": "1e7978bd-67d7-4bf4-bd33-1ce70db57221",
        "colab": {
          "base_uri": "https://localhost:8080/",
          "height": 35
        }
      },
      "source": [
        "strs = ['xc', 'zb', 'yd', 'wa']\n",
        "\n",
        "def MyFn(s):\n",
        "  return s[-1]\n",
        "\n",
        "print sorted(strs, key=MyFn)"
      ],
      "execution_count": 0,
      "outputs": [
        {
          "output_type": "stream",
          "text": [
            "['wa', 'zb', 'xc', 'yd']\n"
          ],
          "name": "stdout"
        }
      ]
    },
    {
      "cell_type": "code",
      "metadata": {
        "id": "9Bd-gkGZvUNG",
        "colab_type": "code",
        "colab": {}
      },
      "source": [
        "#alist.sort()\n",
        "#alist = blist.sort()"
      ],
      "execution_count": 0,
      "outputs": []
    },
    {
      "cell_type": "code",
      "metadata": {
        "id": "nBVIjkTRv5gy",
        "colab_type": "code",
        "outputId": "af5df3a2-7fa7-4e64-d172-13703176491b",
        "colab": {
          "base_uri": "https://localhost:8080/",
          "height": 52
        }
      },
      "source": [
        "tuple = (1, 2, 'hi')\n",
        "print len(tuple)\n",
        "print tuple[2]\n",
        "#tuple[2] = 'bye'\n",
        "tuple = (1, 2, 'bye')\n",
        "\n",
        "tuple = ('hi',)"
      ],
      "execution_count": 0,
      "outputs": [
        {
          "output_type": "stream",
          "text": [
            "3\n",
            "hi\n"
          ],
          "name": "stdout"
        }
      ]
    },
    {
      "cell_type": "code",
      "metadata": {
        "id": "zuYwoIgxxB4P",
        "colab_type": "code",
        "outputId": "8dd12cfc-cb5d-40cb-fa39-790f450a0dad",
        "colab": {
          "base_uri": "https://localhost:8080/",
          "height": 35
        }
      },
      "source": [
        "(x, y, z) = (42, 13, \"hike\")\n",
        "print z\n",
        "#(err_string, err_code) = Foo()"
      ],
      "execution_count": 0,
      "outputs": [
        {
          "output_type": "stream",
          "text": [
            "hike\n"
          ],
          "name": "stdout"
        }
      ]
    },
    {
      "cell_type": "code",
      "metadata": {
        "id": "tUcsXyFPxe3W",
        "colab_type": "code",
        "colab": {}
      },
      "source": [
        "nums = [1, 2, 3, 4]\n",
        "squares = [n*n for n in nums]"
      ],
      "execution_count": 0,
      "outputs": []
    },
    {
      "cell_type": "code",
      "metadata": {
        "id": "LyJtGv5cxxp8",
        "colab_type": "code",
        "colab": {}
      },
      "source": [
        "strs = ['hello', 'and', 'goodbye']\n",
        "shouting = [s.upper() + '!!!' for s in strs]"
      ],
      "execution_count": 0,
      "outputs": []
    },
    {
      "cell_type": "code",
      "metadata": {
        "id": "Wy9D7brjyMKv",
        "colab_type": "code",
        "colab": {}
      },
      "source": [
        "nums = [2, 8, 1, 6]\n",
        "small = [n for n in nums if n<=2]"
      ],
      "execution_count": 0,
      "outputs": []
    },
    {
      "cell_type": "code",
      "metadata": {
        "id": "TO7bhREYPsTX",
        "colab_type": "code",
        "colab": {}
      },
      "source": [
        "fruits = ['apple', 'cherry', 'banana', 'lemon']\n",
        "afruits = [s.upper() for s in fruits if 'a' in s]"
      ],
      "execution_count": 0,
      "outputs": []
    },
    {
      "cell_type": "code",
      "metadata": {
        "id": "UsZdUjW4P_Mc",
        "colab_type": "code",
        "outputId": "57f776fa-0533-4746-8394-5a3bfd09a5d8",
        "colab": {
          "base_uri": "https://localhost:8080/",
          "height": 35
        }
      },
      "source": [
        "dict = {}\n",
        "dict['a'] = 'alpha'\n",
        "dict['g'] = 'gamma'\n",
        "dict['o'] = 'omega'\n",
        "\n",
        "print dict"
      ],
      "execution_count": 0,
      "outputs": [
        {
          "output_type": "stream",
          "text": [
            "{'a': 'alpha', 'o': 'omega', 'g': 'gamma'}\n"
          ],
          "name": "stdout"
        }
      ]
    },
    {
      "cell_type": "code",
      "metadata": {
        "id": "CHgf5mLkQ9Ez",
        "colab_type": "code",
        "outputId": "09584eac-b760-4e66-8359-1f62aa43e5a0",
        "colab": {
          "base_uri": "https://localhost:8080/",
          "height": 52
        }
      },
      "source": [
        "print dict['a']\n",
        "dict['a'] = 6\n",
        "'a' in dict\n",
        "#print dict['z']\n",
        "if z in dict: print dict['z']\n",
        "print dict.get('z')"
      ],
      "execution_count": 0,
      "outputs": [
        {
          "output_type": "stream",
          "text": [
            "alpha\n",
            "None\n"
          ],
          "name": "stdout"
        }
      ]
    },
    {
      "cell_type": "code",
      "metadata": {
        "id": "2UTq6iGNRmGl",
        "colab_type": "code",
        "outputId": "da525b73-b1d2-48d8-e982-9e12ddfb34f7",
        "colab": {
          "base_uri": "https://localhost:8080/",
          "height": 69
        }
      },
      "source": [
        "for key in dict: print key"
      ],
      "execution_count": 0,
      "outputs": [
        {
          "output_type": "stream",
          "text": [
            "a\n",
            "o\n",
            "g\n"
          ],
          "name": "stdout"
        }
      ]
    },
    {
      "cell_type": "code",
      "metadata": {
        "id": "P46jl0OuSGWU",
        "colab_type": "code",
        "outputId": "39b4be42-b6d0-44f9-97a6-48c3912f93c4",
        "colab": {
          "base_uri": "https://localhost:8080/",
          "height": 69
        }
      },
      "source": [
        "for key in dict.keys(): print key"
      ],
      "execution_count": 0,
      "outputs": [
        {
          "output_type": "stream",
          "text": [
            "a\n",
            "o\n",
            "g\n"
          ],
          "name": "stdout"
        }
      ]
    },
    {
      "cell_type": "code",
      "metadata": {
        "id": "C4IHdy0vSMHs",
        "colab_type": "code",
        "outputId": "2bf5adee-c4e8-43db-c011-883f7cce4d3b",
        "colab": {
          "base_uri": "https://localhost:8080/",
          "height": 35
        }
      },
      "source": [
        "print dict.keys()"
      ],
      "execution_count": 0,
      "outputs": [
        {
          "output_type": "stream",
          "text": [
            "['a', 'o', 'g']\n"
          ],
          "name": "stdout"
        }
      ]
    },
    {
      "cell_type": "code",
      "metadata": {
        "id": "VymJYJxNSUtN",
        "colab_type": "code",
        "outputId": "9c2d9457-dc8b-4a97-a8a7-3eb94300361f",
        "colab": {
          "base_uri": "https://localhost:8080/",
          "height": 35
        }
      },
      "source": [
        "print dict.values()"
      ],
      "execution_count": 0,
      "outputs": [
        {
          "output_type": "stream",
          "text": [
            "[6, 'omega', 'gamma']\n"
          ],
          "name": "stdout"
        }
      ]
    },
    {
      "cell_type": "code",
      "metadata": {
        "id": "2_CVpmDoSZLD",
        "colab_type": "code",
        "outputId": "b9798545-ddc9-44e6-878f-84b0b0d17c46",
        "colab": {
          "base_uri": "https://localhost:8080/",
          "height": 69
        }
      },
      "source": [
        "for key in sorted(dict.keys()):\n",
        "  print key, dict[key]"
      ],
      "execution_count": 0,
      "outputs": [
        {
          "output_type": "stream",
          "text": [
            "a 6\n",
            "g gamma\n",
            "o omega\n"
          ],
          "name": "stdout"
        }
      ]
    },
    {
      "cell_type": "code",
      "metadata": {
        "id": "1pr93f9tS01e",
        "colab_type": "code",
        "outputId": "07938485-3a8d-422b-ca9a-f1d12c841627",
        "colab": {
          "base_uri": "https://localhost:8080/",
          "height": 35
        }
      },
      "source": [
        "print dict.items()"
      ],
      "execution_count": 0,
      "outputs": [
        {
          "output_type": "stream",
          "text": [
            "[('a', 6), ('o', 'omega'), ('g', 'gamma')]\n"
          ],
          "name": "stdout"
        }
      ]
    },
    {
      "cell_type": "code",
      "metadata": {
        "id": "2vgwEAJ0S7T1",
        "colab_type": "code",
        "outputId": "ead22cd8-7195-45cb-edf1-31e83ab0278b",
        "colab": {
          "base_uri": "https://localhost:8080/",
          "height": 69
        }
      },
      "source": [
        "for k, v in dict.items(): print k, '>', v"
      ],
      "execution_count": 0,
      "outputs": [
        {
          "output_type": "stream",
          "text": [
            "a > 6\n",
            "o > omega\n",
            "g > gamma\n"
          ],
          "name": "stdout"
        }
      ]
    },
    {
      "cell_type": "code",
      "metadata": {
        "id": "bZKD4TjkTOS9",
        "colab_type": "code",
        "colab": {}
      },
      "source": [
        "hash = {}\n",
        "hash['word'] = 'garfield'\n",
        "hash['count'] = 42\n",
        "\n",
        "s = 'I want %(count)d copies of %(word)s' % hash"
      ],
      "execution_count": 0,
      "outputs": []
    },
    {
      "cell_type": "code",
      "metadata": {
        "id": "d4y8r8t8Twvc",
        "colab_type": "code",
        "outputId": "c5e8ea31-03e6-4275-816f-9b13f937c8de",
        "colab": {
          "base_uri": "https://localhost:8080/",
          "height": 52
        }
      },
      "source": [
        "var = 6\n",
        "del var\n",
        "\n",
        "list = ['a', 'b', 'c', 'd']\n",
        "del list[0]\n",
        "del list[-2:]\n",
        "print list\n",
        "\n",
        "dict = {'a':1, 'b':2, 'c':3}\n",
        "del dict['b']\n",
        "print dict"
      ],
      "execution_count": 0,
      "outputs": [
        {
          "output_type": "stream",
          "text": [
            "['b']\n",
            "{'a': 1, 'c': 3}\n"
          ],
          "name": "stdout"
        }
      ]
    },
    {
      "cell_type": "code",
      "metadata": {
        "id": "y8xXHv7uT1NO",
        "colab_type": "code",
        "colab": {}
      },
      "source": [
        "#f = open('foo.txt', 'rU')\n",
        "#for line in f:\n",
        "#  print line,\n",
        "#  \n",
        "#f.close()"
      ],
      "execution_count": 0,
      "outputs": []
    },
    {
      "cell_type": "code",
      "metadata": {
        "id": "TfWo01fmVX-9",
        "colab_type": "code",
        "colab": {}
      },
      "source": [
        "import codecs\n",
        "\n",
        "#f = codecs.open('foo.txt', 'rU', 'utf-8')\n",
        "#for line in f:"
      ],
      "execution_count": 0,
      "outputs": []
    },
    {
      "cell_type": "code",
      "metadata": {
        "id": "V1Vw1tNpXmMZ",
        "colab_type": "code",
        "colab": {}
      },
      "source": [
        "import re\n",
        "\n",
        "#match = re.search(pat, str)"
      ],
      "execution_count": 0,
      "outputs": []
    },
    {
      "cell_type": "code",
      "metadata": {
        "id": "bvu0AT-TUkPI",
        "colab_type": "code",
        "outputId": "40da973d-8005-4867-9033-3234dd1c5a08",
        "colab": {
          "base_uri": "https://localhost:8080/",
          "height": 35
        }
      },
      "source": [
        "str = 'an example word:cat!!'\n",
        "\n",
        "match = re.search(r'word:\\w\\w\\w', str)\n",
        "\n",
        "if match:\n",
        "  print 'found', match.group()\n",
        "else:\n",
        "  print 'did not find'"
      ],
      "execution_count": 0,
      "outputs": [
        {
          "output_type": "stream",
          "text": [
            "found word:cat\n"
          ],
          "name": "stdout"
        }
      ]
    },
    {
      "cell_type": "code",
      "metadata": {
        "id": "2ZBFLL5_WCF5",
        "colab_type": "code",
        "colab": {}
      },
      "source": [
        "match = re.search(r'iii', 'piiig')\n",
        "match = re.search(r'igs', 'piiig')\n",
        "\n",
        "match = re.search(r'..g', 'piiig')\n",
        "\n",
        "match = re.search(r'\\d\\d\\d', 'p123g')\n",
        "match = re.search(r'\\w\\w\\w', '@@abcd!!')"
      ],
      "execution_count": 0,
      "outputs": []
    },
    {
      "cell_type": "code",
      "metadata": {
        "id": "dwM_LqY_W3c8",
        "colab_type": "code",
        "colab": {}
      },
      "source": [
        "match = re.search(r'pi+', 'piiig')\n",
        "\n",
        "match = re.search(r'i+', 'piigiiii')\n",
        "\n",
        "match = re.search(r'\\d\\s*\\d\\s*\\d', 'xx1 2   3xx')\n",
        "match= re.search(r'\\d\\s*\\d\\s*\\d', 'xx12  3xx')\n",
        "match = re.search(r'\\d\\s*\\d\\s*\\d', 'xx123xx')\n",
        "\n",
        "match = re.search(r'^b\\w+', 'foobar')\n",
        "match = re.search(r'b\\w+', 'foobar')"
      ],
      "execution_count": 0,
      "outputs": []
    },
    {
      "cell_type": "code",
      "metadata": {
        "id": "6ZD24WbLYh-d",
        "colab_type": "code",
        "outputId": "4d8108f4-391d-4fe5-f937-5fb3a4249d85",
        "colab": {
          "base_uri": "https://localhost:8080/",
          "height": 35
        }
      },
      "source": [
        "str = 'purple alice-b@google.com monkey dishwasher'\n",
        "match = re.search(r'\\w+@\\w+', str)\n",
        "\n",
        "if match:\n",
        "  print match.group()"
      ],
      "execution_count": 0,
      "outputs": [
        {
          "output_type": "stream",
          "text": [
            "b@google\n"
          ],
          "name": "stdout"
        }
      ]
    },
    {
      "cell_type": "code",
      "metadata": {
        "id": "a0qPBqB7Y-bV",
        "colab_type": "code",
        "outputId": "266b608b-1f96-4e03-afd6-1c50b7e26662",
        "colab": {
          "base_uri": "https://localhost:8080/",
          "height": 35
        }
      },
      "source": [
        "match = re.search(r'[\\w.-]+@[\\w.-]+', str)\n",
        "\n",
        "if match:\n",
        "  print match.group()"
      ],
      "execution_count": 0,
      "outputs": [
        {
          "output_type": "stream",
          "text": [
            "alice-b@google.com\n"
          ],
          "name": "stdout"
        }
      ]
    },
    {
      "cell_type": "code",
      "metadata": {
        "id": "SMg5KA5NZvai",
        "colab_type": "code",
        "outputId": "eda27d72-ac00-4ae9-9b59-3e3b6420fd98",
        "colab": {
          "base_uri": "https://localhost:8080/",
          "height": 69
        }
      },
      "source": [
        "str = 'purple alice-b@google.com monkey dishwasher'\n",
        "match = re.search(r'([\\w.-]+)@([\\w.-]+)', str)\n",
        "\n",
        "if match:\n",
        "  print match.group()\n",
        "  print match.group(1)\n",
        "  print match.group(2)"
      ],
      "execution_count": 0,
      "outputs": [
        {
          "output_type": "stream",
          "text": [
            "alice-b@google.com\n",
            "alice-b\n",
            "google.com\n"
          ],
          "name": "stdout"
        }
      ]
    },
    {
      "cell_type": "code",
      "metadata": {
        "id": "OYU-DKZBa2j7",
        "colab_type": "code",
        "outputId": "73cfe976-b7d0-4749-957d-5d3f62340eaa",
        "colab": {
          "base_uri": "https://localhost:8080/",
          "height": 52
        }
      },
      "source": [
        "str = 'purple alice@google.com, blah monkey bob@abc.com blah dishwasher'\n",
        "emails = re.findall(r'[\\w\\.-]+@[\\w\\.-]+', str)\n",
        "\n",
        "for email in emails:\n",
        "  print email"
      ],
      "execution_count": 0,
      "outputs": [
        {
          "output_type": "stream",
          "text": [
            "alice@google.com\n",
            "bob@abc.com\n"
          ],
          "name": "stdout"
        }
      ]
    },
    {
      "cell_type": "code",
      "metadata": {
        "id": "ZWeAJ1GJbcGS",
        "colab_type": "code",
        "colab": {}
      },
      "source": [
        "#f = open('test.txt', 'r')\n",
        "#strings = re.findall(r'some pattern', f.read())"
      ],
      "execution_count": 0,
      "outputs": []
    },
    {
      "cell_type": "code",
      "metadata": {
        "id": "49L9Ulh7b3dY",
        "colab_type": "code",
        "outputId": "9a9aca21-8083-45ae-811b-b62da6b89cfe",
        "colab": {
          "base_uri": "https://localhost:8080/",
          "height": 104
        }
      },
      "source": [
        "str = 'purple alice@google.com, blah monkey bob@abc.com blah dishwasher'\n",
        "tuples = re.findall(r'([\\w\\.-]+)@([\\w\\.-]+)', str)\n",
        "print tuples\n",
        "\n",
        "for tuple in tuples:\n",
        "  print tuple[0]\n",
        "  print tuple[1]"
      ],
      "execution_count": 0,
      "outputs": [
        {
          "output_type": "stream",
          "text": [
            "[('alice', 'google.com'), ('bob', 'abc.com')]\n",
            "alice\n",
            "google.com\n",
            "bob\n",
            "abc.com\n"
          ],
          "name": "stdout"
        }
      ]
    },
    {
      "cell_type": "code",
      "metadata": {
        "id": "6EHFvPV3cqqn",
        "colab_type": "code",
        "outputId": "3a284b73-fe6c-4d75-bfeb-4d20841f0940",
        "colab": {
          "base_uri": "https://localhost:8080/",
          "height": 35
        }
      },
      "source": [
        "str = 'purple alice@google.com, blah monkey bob@abc.com blah dishwasher'\n",
        "print re.sub(r'([\\w\\.-]+)@([\\w\\.-]+)', r'\\1@yo-yo-dyne.com', str)"
      ],
      "execution_count": 0,
      "outputs": [
        {
          "output_type": "stream",
          "text": [
            "purple alice@yo-yo-dyne.com, blah monkey bob@yo-yo-dyne.com blah dishwasher\n"
          ],
          "name": "stdout"
        }
      ]
    },
    {
      "cell_type": "code",
      "metadata": {
        "id": "BFti5Shuduzq",
        "colab_type": "code",
        "colab": {}
      },
      "source": [
        "def printdir(dir):\n",
        "  filenames = os.listdir(dir)\n",
        "  for filename in filenames:\n",
        "    print filename\n",
        "    print os.path.join(dir, filename)\n",
        "    print os.path.abspath(os.path.join(dir, filename))"
      ],
      "execution_count": 0,
      "outputs": []
    },
    {
      "cell_type": "code",
      "metadata": {
        "id": "PESPYk2Se39g",
        "colab_type": "code",
        "colab": {}
      },
      "source": [
        "def listdir(dir):\n",
        "  cmd = 'ls -l ' + dir\n",
        "  print \"Command to run:\", cmd\n",
        "  (status, output) = commands.getstatusoutput(cmd)\n",
        "  if status:\n",
        "    sys.stderr.write(output)\n",
        "    sys.exit(status)\n",
        "  print output"
      ],
      "execution_count": 0,
      "outputs": []
    },
    {
      "cell_type": "code",
      "metadata": {
        "id": "gikWY_50gqAA",
        "colab_type": "code",
        "colab": {}
      },
      "source": [
        "#try:\n",
        "#  f = open(filename, 'rU')\n",
        "#  text = f.read()\n",
        "#  f.close()\n",
        "#except IOError:\n",
        "#  sys.stderr.write('problem reading:' + filename)"
      ],
      "execution_count": 0,
      "outputs": []
    },
    {
      "cell_type": "code",
      "metadata": {
        "id": "qKXYriK5hgq4",
        "colab_type": "code",
        "colab": {}
      },
      "source": [
        "def wget(url):\n",
        "  ufile = urllib.urlopen(url)\n",
        "  info = ufile.info()\n",
        "  \n",
        "  if info.gettype() == 'text/html':\n",
        "    print 'base url:' + ufile.geturl()\n",
        "    text = ufile.read()\n",
        "    print text"
      ],
      "execution_count": 0,
      "outputs": []
    },
    {
      "cell_type": "code",
      "metadata": {
        "id": "xjMBTIEVimMS",
        "colab_type": "code",
        "colab": {}
      },
      "source": [
        "def wget2(url):\n",
        "  try:\n",
        "    ufile = urllib.urlopen(url)\n",
        "    if ufile.info().gettype() == 'text/html':\n",
        "      print ufile.read()\n",
        "  except IOError:\n",
        "    print 'problem reading url:', url"
      ],
      "execution_count": 0,
      "outputs": []
    },
    {
      "cell_type": "code",
      "metadata": {
        "id": "RPHEEx_rjDjO",
        "colab_type": "code",
        "colab": {}
      },
      "source": [
        ""
      ],
      "execution_count": 0,
      "outputs": []
    }
  ]
}